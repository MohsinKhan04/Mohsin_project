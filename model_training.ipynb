{
 "cells": [
  {
   "cell_type": "code",
   "execution_count": 1,
   "id": "c08bd7fe",
   "metadata": {},
   "outputs": [],
   "source": [
    "import numpy as np\n",
    "import pandas as pd"
   ]
  },
  {
   "cell_type": "code",
   "execution_count": 3,
   "id": "2d1e0137",
   "metadata": {},
   "outputs": [],
   "source": [
    "mk=pd.read_csv(r\"data\\cubic_zirconia.csv\")"
   ]
  },
  {
   "cell_type": "code",
   "execution_count": 18,
   "id": "b13f6ddb",
   "metadata": {},
   "outputs": [
    {
     "data": {
      "text/plain": [
       "carat        0\n",
       "cut          0\n",
       "color        0\n",
       "clarity      0\n",
       "depth      697\n",
       "table        0\n",
       "x            0\n",
       "y            0\n",
       "z            0\n",
       "price        0\n",
       "dtype: int64"
      ]
     },
     "execution_count": 18,
     "metadata": {},
     "output_type": "execute_result"
    }
   ],
   "source": [
    "mk.isnull().sum()"
   ]
  },
  {
   "cell_type": "code",
   "execution_count": 4,
   "id": "0ba4444a",
   "metadata": {},
   "outputs": [],
   "source": [
    "mk.drop(columns=\"Unnamed: 0\", inplace=True)"
   ]
  },
  {
   "cell_type": "code",
   "execution_count": 9,
   "id": "6ce8d8ea",
   "metadata": {},
   "outputs": [],
   "source": [
    "x=mk.drop(columns=\"price\", axis=1)"
   ]
  },
  {
   "cell_type": "code",
   "execution_count": 6,
   "id": "0a910743",
   "metadata": {},
   "outputs": [],
   "source": [
    "y=mk[\"price\"]"
   ]
  },
  {
   "cell_type": "code",
   "execution_count": 7,
   "id": "c4b746e6",
   "metadata": {},
   "outputs": [
    {
     "data": {
      "text/plain": [
       "0         499\n",
       "1         984\n",
       "2        6289\n",
       "3        1082\n",
       "4         779\n",
       "         ... \n",
       "26962    5408\n",
       "26963    1114\n",
       "26964    1656\n",
       "26965     682\n",
       "26966    5166\n",
       "Name: price, Length: 26967, dtype: int64"
      ]
     },
     "execution_count": 7,
     "metadata": {},
     "output_type": "execute_result"
    }
   ],
   "source": [
    "y"
   ]
  },
  {
   "cell_type": "code",
   "execution_count": 13,
   "id": "3e504cbd",
   "metadata": {},
   "outputs": [],
   "source": [
    "cat_col=x.select_dtypes(include='object').columns"
   ]
  },
  {
   "cell_type": "code",
   "execution_count": 12,
   "id": "73e5e25c",
   "metadata": {},
   "outputs": [],
   "source": [
    "num_col=x.select_dtypes(exclude='object').columns"
   ]
  },
  {
   "cell_type": "code",
   "execution_count": 14,
   "id": "3065c264",
   "metadata": {},
   "outputs": [
    {
     "data": {
      "text/plain": [
       "Index(['cut', 'color', 'clarity'], dtype='object')"
      ]
     },
     "execution_count": 14,
     "metadata": {},
     "output_type": "execute_result"
    }
   ],
   "source": [
    "cat_col"
   ]
  },
  {
   "cell_type": "code",
   "execution_count": 15,
   "id": "3dafeae8",
   "metadata": {},
   "outputs": [
    {
     "data": {
      "text/plain": [
       "Index(['carat', 'depth', 'table', 'x', 'y', 'z'], dtype='object')"
      ]
     },
     "execution_count": 15,
     "metadata": {},
     "output_type": "execute_result"
    }
   ],
   "source": [
    "num_col"
   ]
  },
  {
   "cell_type": "code",
   "execution_count": 16,
   "id": "b055810e",
   "metadata": {},
   "outputs": [],
   "source": [
    "cut_categories=['Ideal', 'Premium', 'Very Good', 'Good', 'Fair']\n",
    "color_categoried=['D', 'E', 'F', 'G', 'H', 'I', 'J']\n",
    "clarity_categories=['SI1', 'IF', 'VVS2', 'VS1', 'VVS1', 'VS2', 'SI2', 'I1']"
   ]
  },
  {
   "cell_type": "code",
   "execution_count": 23,
   "id": "e58d90ac",
   "metadata": {},
   "outputs": [],
   "source": [
    "from sklearn.impute import SimpleImputer #handeling missing values\n",
    "from sklearn.preprocessing import StandardScaler #feature scaling\n",
    "from sklearn.preprocessing import OrdinalEncoder #ordinal encoding\n",
    "#pipeline\n",
    "from sklearn.pipeline import Pipeline \n",
    "from sklearn.compose import ColumnTransformer"
   ]
  },
  {
   "cell_type": "code",
   "execution_count": 28,
   "id": "a7ee9aa7",
   "metadata": {},
   "outputs": [],
   "source": [
    "num_pipeline=Pipeline(\n",
    "    \n",
    "    steps=[\n",
    "        \n",
    "        (\"imputer\", SimpleImputer()),\n",
    "        (\"scaler\", StandardScaler())\n",
    "        \n",
    "        \n",
    "        \n",
    "        \n",
    "    ]\n",
    "    \n",
    "    \n",
    "    \n",
    ")"
   ]
  },
  {
   "cell_type": "code",
   "execution_count": 37,
   "id": "6653ca7f",
   "metadata": {},
   "outputs": [],
   "source": [
    "cat_pipeline=Pipeline(\n",
    "    \n",
    "    \n",
    "    steps=[\n",
    "        \n",
    "        \n",
    "        (\"imputer\", SimpleImputer(strategy=\"most_frequent\")),   \n",
    "        (\"ordinalencoder\", OrdinalEncoder(categories=[cut_categories, color_categoried, clarity_categories])),  \n",
    "        \n",
    "        \n",
    "    ]\n",
    "    \n",
    "    \n",
    "    \n",
    ")"
   ]
  },
  {
   "cell_type": "code",
   "execution_count": 42,
   "id": "a99c5228",
   "metadata": {},
   "outputs": [],
   "source": [
    "preprocessor = ColumnTransformer(transformers=[\n",
    "    (\"numerical_pipeline\", num_pipeline, num_col),\n",
    "    (\"categorical_pipeline\", cat_pipeline, cat_col)\n",
    "])\n"
   ]
  },
  {
   "cell_type": "code",
   "execution_count": 43,
   "id": "2644d248",
   "metadata": {},
   "outputs": [],
   "source": [
    "from sklearn.model_selection import train_test_split\n",
    "x_train, x_test, y_train, y_test=train_test_split(x, y, test_size=0.30, random_state=30)"
   ]
  },
  {
   "cell_type": "code",
   "execution_count": 45,
   "id": "38803e8f",
   "metadata": {},
   "outputs": [
    {
     "data": {
      "text/plain": [
       "array([[ 0.56167397,  0.31982286, -0.6510053 , ...,  0.        ,\n",
       "         3.        ,  3.        ],\n",
       "       [-0.60408689, -0.39681436,  1.58987791, ...,  2.        ,\n",
       "         1.        ,  0.        ],\n",
       "       [-0.52081826, -0.25348692, -1.09918195, ...,  0.        ,\n",
       "         4.        ,  6.        ],\n",
       "       ...,\n",
       "       [ 1.87315495,  0.7498052 , -0.20282866, ...,  2.        ,\n",
       "         4.        ,  3.        ],\n",
       "       [-1.04124722,  1.03646009, -0.20282866, ...,  3.        ,\n",
       "         0.        ,  6.        ],\n",
       "       [-0.54163542, -0.68346925, -0.20282866, ...,  0.        ,\n",
       "         0.        ,  0.        ]], shape=(18876, 9))"
      ]
     },
     "execution_count": 45,
     "metadata": {},
     "output_type": "execute_result"
    }
   ],
   "source": [
    "preprocessor.fit_transform(x_train)"
   ]
  },
  {
   "cell_type": "code",
   "execution_count": 46,
   "id": "e69f5fcc",
   "metadata": {},
   "outputs": [
    {
     "data": {
      "text/plain": [
       "array([[-0.83307564,  0.17649542,  1.58987791, ...,  1.        ,\n",
       "         1.        ,  0.        ],\n",
       "       [ 0.29105092, -0.97012414,  0.69352463, ...,  1.        ,\n",
       "         1.        ,  6.        ],\n",
       "       [ 0.62412545, -0.39681436, -0.20282866, ...,  1.        ,\n",
       "         6.        ,  5.        ],\n",
       "       ...,\n",
       "       [-1.04124722,  0.82146892, -0.20282866, ...,  2.        ,\n",
       "         2.        ,  5.        ],\n",
       "       [ 0.43677102, -0.1818232 ,  0.69352463, ...,  1.        ,\n",
       "         3.        ,  0.        ],\n",
       "       [ 0.41595387,  0.        ,  1.14170127, ...,  1.        ,\n",
       "         1.        ,  6.        ]], shape=(8091, 9))"
      ]
     },
     "execution_count": 46,
     "metadata": {},
     "output_type": "execute_result"
    }
   ],
   "source": [
    "preprocessor.transform(x_test)"
   ]
  },
  {
   "cell_type": "code",
   "execution_count": 47,
   "id": "eb9f7845",
   "metadata": {},
   "outputs": [
    {
     "data": {
      "text/plain": [
       "array(['numerical_pipeline__carat', 'numerical_pipeline__depth',\n",
       "       'numerical_pipeline__table', 'numerical_pipeline__x',\n",
       "       'numerical_pipeline__y', 'numerical_pipeline__z',\n",
       "       'categorical_pipeline__cut', 'categorical_pipeline__color',\n",
       "       'categorical_pipeline__clarity'], dtype=object)"
      ]
     },
     "execution_count": 47,
     "metadata": {},
     "output_type": "execute_result"
    }
   ],
   "source": [
    "preprocessor.get_feature_names_out()"
   ]
  },
  {
   "cell_type": "code",
   "execution_count": 48,
   "id": "f7f209cb",
   "metadata": {},
   "outputs": [
    {
     "data": {
      "text/html": [
       "<div>\n",
       "<style scoped>\n",
       "    .dataframe tbody tr th:only-of-type {\n",
       "        vertical-align: middle;\n",
       "    }\n",
       "\n",
       "    .dataframe tbody tr th {\n",
       "        vertical-align: top;\n",
       "    }\n",
       "\n",
       "    .dataframe thead th {\n",
       "        text-align: right;\n",
       "    }\n",
       "</style>\n",
       "<table border=\"1\" class=\"dataframe\">\n",
       "  <thead>\n",
       "    <tr style=\"text-align: right;\">\n",
       "      <th></th>\n",
       "      <th>carat</th>\n",
       "      <th>cut</th>\n",
       "      <th>color</th>\n",
       "      <th>clarity</th>\n",
       "      <th>depth</th>\n",
       "      <th>table</th>\n",
       "      <th>x</th>\n",
       "      <th>y</th>\n",
       "      <th>z</th>\n",
       "    </tr>\n",
       "  </thead>\n",
       "  <tbody>\n",
       "    <tr>\n",
       "      <th>4634</th>\n",
       "      <td>1.07</td>\n",
       "      <td>Ideal</td>\n",
       "      <td>G</td>\n",
       "      <td>VS1</td>\n",
       "      <td>62.2</td>\n",
       "      <td>56.0</td>\n",
       "      <td>6.53</td>\n",
       "      <td>6.56</td>\n",
       "      <td>4.07</td>\n",
       "    </tr>\n",
       "    <tr>\n",
       "      <th>5397</th>\n",
       "      <td>0.51</td>\n",
       "      <td>Very Good</td>\n",
       "      <td>E</td>\n",
       "      <td>SI1</td>\n",
       "      <td>61.2</td>\n",
       "      <td>61.0</td>\n",
       "      <td>5.13</td>\n",
       "      <td>5.16</td>\n",
       "      <td>3.15</td>\n",
       "    </tr>\n",
       "    <tr>\n",
       "      <th>22885</th>\n",
       "      <td>0.55</td>\n",
       "      <td>Ideal</td>\n",
       "      <td>H</td>\n",
       "      <td>SI2</td>\n",
       "      <td>61.4</td>\n",
       "      <td>55.0</td>\n",
       "      <td>5.27</td>\n",
       "      <td>5.29</td>\n",
       "      <td>3.24</td>\n",
       "    </tr>\n",
       "    <tr>\n",
       "      <th>2721</th>\n",
       "      <td>0.32</td>\n",
       "      <td>Ideal</td>\n",
       "      <td>H</td>\n",
       "      <td>VS1</td>\n",
       "      <td>62.1</td>\n",
       "      <td>55.0</td>\n",
       "      <td>4.40</td>\n",
       "      <td>4.39</td>\n",
       "      <td>2.73</td>\n",
       "    </tr>\n",
       "    <tr>\n",
       "      <th>18705</th>\n",
       "      <td>0.91</td>\n",
       "      <td>Very Good</td>\n",
       "      <td>H</td>\n",
       "      <td>VS2</td>\n",
       "      <td>63.1</td>\n",
       "      <td>56.0</td>\n",
       "      <td>6.20</td>\n",
       "      <td>6.13</td>\n",
       "      <td>3.89</td>\n",
       "    </tr>\n",
       "    <tr>\n",
       "      <th>...</th>\n",
       "      <td>...</td>\n",
       "      <td>...</td>\n",
       "      <td>...</td>\n",
       "      <td>...</td>\n",
       "      <td>...</td>\n",
       "      <td>...</td>\n",
       "      <td>...</td>\n",
       "      <td>...</td>\n",
       "      <td>...</td>\n",
       "    </tr>\n",
       "    <tr>\n",
       "      <th>500</th>\n",
       "      <td>0.71</td>\n",
       "      <td>Premium</td>\n",
       "      <td>G</td>\n",
       "      <td>SI1</td>\n",
       "      <td>58.9</td>\n",
       "      <td>62.0</td>\n",
       "      <td>5.85</td>\n",
       "      <td>5.79</td>\n",
       "      <td>3.43</td>\n",
       "    </tr>\n",
       "    <tr>\n",
       "      <th>12077</th>\n",
       "      <td>1.01</td>\n",
       "      <td>Premium</td>\n",
       "      <td>G</td>\n",
       "      <td>SI1</td>\n",
       "      <td>62.2</td>\n",
       "      <td>58.0</td>\n",
       "      <td>6.42</td>\n",
       "      <td>6.40</td>\n",
       "      <td>3.99</td>\n",
       "    </tr>\n",
       "    <tr>\n",
       "      <th>15277</th>\n",
       "      <td>1.70</td>\n",
       "      <td>Very Good</td>\n",
       "      <td>H</td>\n",
       "      <td>VS1</td>\n",
       "      <td>62.8</td>\n",
       "      <td>57.0</td>\n",
       "      <td>7.47</td>\n",
       "      <td>7.57</td>\n",
       "      <td>4.72</td>\n",
       "    </tr>\n",
       "    <tr>\n",
       "      <th>4517</th>\n",
       "      <td>0.30</td>\n",
       "      <td>Good</td>\n",
       "      <td>D</td>\n",
       "      <td>SI2</td>\n",
       "      <td>63.2</td>\n",
       "      <td>57.0</td>\n",
       "      <td>4.21</td>\n",
       "      <td>4.24</td>\n",
       "      <td>2.67</td>\n",
       "    </tr>\n",
       "    <tr>\n",
       "      <th>5925</th>\n",
       "      <td>0.54</td>\n",
       "      <td>Ideal</td>\n",
       "      <td>D</td>\n",
       "      <td>SI1</td>\n",
       "      <td>60.8</td>\n",
       "      <td>57.0</td>\n",
       "      <td>5.25</td>\n",
       "      <td>5.31</td>\n",
       "      <td>3.21</td>\n",
       "    </tr>\n",
       "  </tbody>\n",
       "</table>\n",
       "<p>18876 rows × 9 columns</p>\n",
       "</div>"
      ],
      "text/plain": [
       "       carat        cut color clarity  depth  table     x     y     z\n",
       "4634    1.07      Ideal     G     VS1   62.2   56.0  6.53  6.56  4.07\n",
       "5397    0.51  Very Good     E     SI1   61.2   61.0  5.13  5.16  3.15\n",
       "22885   0.55      Ideal     H     SI2   61.4   55.0  5.27  5.29  3.24\n",
       "2721    0.32      Ideal     H     VS1   62.1   55.0  4.40  4.39  2.73\n",
       "18705   0.91  Very Good     H     VS2   63.1   56.0  6.20  6.13  3.89\n",
       "...      ...        ...   ...     ...    ...    ...   ...   ...   ...\n",
       "500     0.71    Premium     G     SI1   58.9   62.0  5.85  5.79  3.43\n",
       "12077   1.01    Premium     G     SI1   62.2   58.0  6.42  6.40  3.99\n",
       "15277   1.70  Very Good     H     VS1   62.8   57.0  7.47  7.57  4.72\n",
       "4517    0.30       Good     D     SI2   63.2   57.0  4.21  4.24  2.67\n",
       "5925    0.54      Ideal     D     SI1   60.8   57.0  5.25  5.31  3.21\n",
       "\n",
       "[18876 rows x 9 columns]"
      ]
     },
     "execution_count": 48,
     "metadata": {},
     "output_type": "execute_result"
    }
   ],
   "source": [
    "x_train"
   ]
  },
  {
   "cell_type": "code",
   "execution_count": 49,
   "id": "cf53ed5c",
   "metadata": {},
   "outputs": [
    {
     "data": {
      "text/html": [
       "<div>\n",
       "<style scoped>\n",
       "    .dataframe tbody tr th:only-of-type {\n",
       "        vertical-align: middle;\n",
       "    }\n",
       "\n",
       "    .dataframe tbody tr th {\n",
       "        vertical-align: top;\n",
       "    }\n",
       "\n",
       "    .dataframe thead th {\n",
       "        text-align: right;\n",
       "    }\n",
       "</style>\n",
       "<table border=\"1\" class=\"dataframe\">\n",
       "  <thead>\n",
       "    <tr style=\"text-align: right;\">\n",
       "      <th></th>\n",
       "      <th>carat</th>\n",
       "      <th>cut</th>\n",
       "      <th>color</th>\n",
       "      <th>clarity</th>\n",
       "      <th>depth</th>\n",
       "      <th>table</th>\n",
       "      <th>x</th>\n",
       "      <th>y</th>\n",
       "      <th>z</th>\n",
       "    </tr>\n",
       "  </thead>\n",
       "  <tbody>\n",
       "    <tr>\n",
       "      <th>14342</th>\n",
       "      <td>0.40</td>\n",
       "      <td>Premium</td>\n",
       "      <td>E</td>\n",
       "      <td>SI1</td>\n",
       "      <td>62.0</td>\n",
       "      <td>61.0</td>\n",
       "      <td>4.71</td>\n",
       "      <td>4.67</td>\n",
       "      <td>2.91</td>\n",
       "    </tr>\n",
       "    <tr>\n",
       "      <th>18306</th>\n",
       "      <td>0.94</td>\n",
       "      <td>Premium</td>\n",
       "      <td>E</td>\n",
       "      <td>SI2</td>\n",
       "      <td>60.4</td>\n",
       "      <td>59.0</td>\n",
       "      <td>6.34</td>\n",
       "      <td>6.37</td>\n",
       "      <td>3.84</td>\n",
       "    </tr>\n",
       "    <tr>\n",
       "      <th>14351</th>\n",
       "      <td>1.10</td>\n",
       "      <td>Premium</td>\n",
       "      <td>J</td>\n",
       "      <td>VS2</td>\n",
       "      <td>61.2</td>\n",
       "      <td>57.0</td>\n",
       "      <td>6.66</td>\n",
       "      <td>6.61</td>\n",
       "      <td>4.06</td>\n",
       "    </tr>\n",
       "    <tr>\n",
       "      <th>16062</th>\n",
       "      <td>1.20</td>\n",
       "      <td>Good</td>\n",
       "      <td>E</td>\n",
       "      <td>SI1</td>\n",
       "      <td>59.9</td>\n",
       "      <td>64.0</td>\n",
       "      <td>6.84</td>\n",
       "      <td>6.79</td>\n",
       "      <td>4.08</td>\n",
       "    </tr>\n",
       "    <tr>\n",
       "      <th>12837</th>\n",
       "      <td>0.30</td>\n",
       "      <td>Very Good</td>\n",
       "      <td>G</td>\n",
       "      <td>IF</td>\n",
       "      <td>61.4</td>\n",
       "      <td>59.0</td>\n",
       "      <td>4.27</td>\n",
       "      <td>4.30</td>\n",
       "      <td>2.63</td>\n",
       "    </tr>\n",
       "    <tr>\n",
       "      <th>...</th>\n",
       "      <td>...</td>\n",
       "      <td>...</td>\n",
       "      <td>...</td>\n",
       "      <td>...</td>\n",
       "      <td>...</td>\n",
       "      <td>...</td>\n",
       "      <td>...</td>\n",
       "      <td>...</td>\n",
       "      <td>...</td>\n",
       "    </tr>\n",
       "    <tr>\n",
       "      <th>2912</th>\n",
       "      <td>0.72</td>\n",
       "      <td>Very Good</td>\n",
       "      <td>E</td>\n",
       "      <td>SI2</td>\n",
       "      <td>59.7</td>\n",
       "      <td>59.0</td>\n",
       "      <td>5.77</td>\n",
       "      <td>5.82</td>\n",
       "      <td>3.46</td>\n",
       "    </tr>\n",
       "    <tr>\n",
       "      <th>14385</th>\n",
       "      <td>0.72</td>\n",
       "      <td>Very Good</td>\n",
       "      <td>G</td>\n",
       "      <td>VVS2</td>\n",
       "      <td>60.4</td>\n",
       "      <td>58.0</td>\n",
       "      <td>5.77</td>\n",
       "      <td>5.82</td>\n",
       "      <td>3.50</td>\n",
       "    </tr>\n",
       "    <tr>\n",
       "      <th>17438</th>\n",
       "      <td>0.30</td>\n",
       "      <td>Very Good</td>\n",
       "      <td>F</td>\n",
       "      <td>VS2</td>\n",
       "      <td>62.9</td>\n",
       "      <td>57.0</td>\n",
       "      <td>4.27</td>\n",
       "      <td>4.29</td>\n",
       "      <td>2.69</td>\n",
       "    </tr>\n",
       "    <tr>\n",
       "      <th>456</th>\n",
       "      <td>1.01</td>\n",
       "      <td>Premium</td>\n",
       "      <td>G</td>\n",
       "      <td>SI1</td>\n",
       "      <td>61.5</td>\n",
       "      <td>59.0</td>\n",
       "      <td>6.48</td>\n",
       "      <td>6.43</td>\n",
       "      <td>3.97</td>\n",
       "    </tr>\n",
       "    <tr>\n",
       "      <th>17849</th>\n",
       "      <td>1.00</td>\n",
       "      <td>Premium</td>\n",
       "      <td>E</td>\n",
       "      <td>SI2</td>\n",
       "      <td>NaN</td>\n",
       "      <td>60.0</td>\n",
       "      <td>6.42</td>\n",
       "      <td>6.45</td>\n",
       "      <td>3.94</td>\n",
       "    </tr>\n",
       "  </tbody>\n",
       "</table>\n",
       "<p>8091 rows × 9 columns</p>\n",
       "</div>"
      ],
      "text/plain": [
       "       carat        cut color clarity  depth  table     x     y     z\n",
       "14342   0.40    Premium     E     SI1   62.0   61.0  4.71  4.67  2.91\n",
       "18306   0.94    Premium     E     SI2   60.4   59.0  6.34  6.37  3.84\n",
       "14351   1.10    Premium     J     VS2   61.2   57.0  6.66  6.61  4.06\n",
       "16062   1.20       Good     E     SI1   59.9   64.0  6.84  6.79  4.08\n",
       "12837   0.30  Very Good     G      IF   61.4   59.0  4.27  4.30  2.63\n",
       "...      ...        ...   ...     ...    ...    ...   ...   ...   ...\n",
       "2912    0.72  Very Good     E     SI2   59.7   59.0  5.77  5.82  3.46\n",
       "14385   0.72  Very Good     G    VVS2   60.4   58.0  5.77  5.82  3.50\n",
       "17438   0.30  Very Good     F     VS2   62.9   57.0  4.27  4.29  2.69\n",
       "456     1.01    Premium     G     SI1   61.5   59.0  6.48  6.43  3.97\n",
       "17849   1.00    Premium     E     SI2    NaN   60.0  6.42  6.45  3.94\n",
       "\n",
       "[8091 rows x 9 columns]"
      ]
     },
     "execution_count": 49,
     "metadata": {},
     "output_type": "execute_result"
    }
   ],
   "source": [
    "x_test"
   ]
  },
  {
   "cell_type": "code",
   "execution_count": null,
   "id": "fd2562ad",
   "metadata": {},
   "outputs": [],
   "source": []
  }
 ],
 "metadata": {
  "kernelspec": {
   "display_name": "Python 3",
   "language": "python",
   "name": "python3"
  },
  "language_info": {
   "codemirror_mode": {
    "name": "ipython",
    "version": 3
   },
   "file_extension": ".py",
   "mimetype": "text/x-python",
   "name": "python",
   "nbconvert_exporter": "python",
   "pygments_lexer": "ipython3",
   "version": "3.14.0"
  }
 },
 "nbformat": 4,
 "nbformat_minor": 5
}
